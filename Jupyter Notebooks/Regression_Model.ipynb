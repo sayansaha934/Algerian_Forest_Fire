{
 "cells": [
  {
   "cell_type": "code",
   "execution_count": 2,
   "id": "2d5de001",
   "metadata": {},
   "outputs": [],
   "source": [
    "import pandas as pd\n",
    "import numpy as np\n",
    "from sklearn.model_selection import train_test_split, GridSearchCV\n",
    "from sklearn.preprocessing import StandardScaler\n",
    "import pickle\n",
    "import os\n",
    "\n",
    "from sklearn.linear_model import LinearRegression, Ridge, Lasso\n",
    "from sklearn.svm import SVR\n",
    "from sklearn.tree import DecisionTreeRegressor\n",
    "from sklearn import tree\n",
    "from sklearn.ensemble import RandomForestRegressor\n",
    "from sklearn.metrics import r2_score, mean_squared_error"
   ]
  },
  {
   "cell_type": "code",
   "execution_count": 3,
   "id": "3e0a5ad5",
   "metadata": {},
   "outputs": [
    {
     "data": {
      "text/html": [
       "<div>\n",
       "<style scoped>\n",
       "    .dataframe tbody tr th:only-of-type {\n",
       "        vertical-align: middle;\n",
       "    }\n",
       "\n",
       "    .dataframe tbody tr th {\n",
       "        vertical-align: top;\n",
       "    }\n",
       "\n",
       "    .dataframe thead th {\n",
       "        text-align: right;\n",
       "    }\n",
       "</style>\n",
       "<table border=\"1\" class=\"dataframe\">\n",
       "  <thead>\n",
       "    <tr style=\"text-align: right;\">\n",
       "      <th></th>\n",
       "      <th>day</th>\n",
       "      <th>month</th>\n",
       "      <th>year</th>\n",
       "      <th>Temperature</th>\n",
       "      <th>RH</th>\n",
       "      <th>Ws</th>\n",
       "      <th>Rain</th>\n",
       "      <th>FFMC</th>\n",
       "      <th>DMC</th>\n",
       "      <th>DC</th>\n",
       "      <th>ISI</th>\n",
       "      <th>BUI</th>\n",
       "      <th>FWI</th>\n",
       "      <th>Classes</th>\n",
       "      <th>Region</th>\n",
       "    </tr>\n",
       "  </thead>\n",
       "  <tbody>\n",
       "    <tr>\n",
       "      <th>0</th>\n",
       "      <td>1</td>\n",
       "      <td>6</td>\n",
       "      <td>2012</td>\n",
       "      <td>29</td>\n",
       "      <td>57</td>\n",
       "      <td>18</td>\n",
       "      <td>0.0</td>\n",
       "      <td>65.7</td>\n",
       "      <td>3.4</td>\n",
       "      <td>7.6</td>\n",
       "      <td>1.3</td>\n",
       "      <td>3.4</td>\n",
       "      <td>0.5</td>\n",
       "      <td>not fire</td>\n",
       "      <td>BR</td>\n",
       "    </tr>\n",
       "    <tr>\n",
       "      <th>1</th>\n",
       "      <td>2</td>\n",
       "      <td>6</td>\n",
       "      <td>2012</td>\n",
       "      <td>29</td>\n",
       "      <td>61</td>\n",
       "      <td>13</td>\n",
       "      <td>1.3</td>\n",
       "      <td>64.4</td>\n",
       "      <td>4.1</td>\n",
       "      <td>7.6</td>\n",
       "      <td>1.0</td>\n",
       "      <td>3.9</td>\n",
       "      <td>0.4</td>\n",
       "      <td>not fire</td>\n",
       "      <td>BR</td>\n",
       "    </tr>\n",
       "    <tr>\n",
       "      <th>2</th>\n",
       "      <td>3</td>\n",
       "      <td>6</td>\n",
       "      <td>2012</td>\n",
       "      <td>26</td>\n",
       "      <td>82</td>\n",
       "      <td>22</td>\n",
       "      <td>13.1</td>\n",
       "      <td>47.1</td>\n",
       "      <td>2.5</td>\n",
       "      <td>7.1</td>\n",
       "      <td>0.3</td>\n",
       "      <td>2.7</td>\n",
       "      <td>0.1</td>\n",
       "      <td>not fire</td>\n",
       "      <td>BR</td>\n",
       "    </tr>\n",
       "    <tr>\n",
       "      <th>3</th>\n",
       "      <td>4</td>\n",
       "      <td>6</td>\n",
       "      <td>2012</td>\n",
       "      <td>25</td>\n",
       "      <td>89</td>\n",
       "      <td>13</td>\n",
       "      <td>2.5</td>\n",
       "      <td>28.6</td>\n",
       "      <td>1.3</td>\n",
       "      <td>6.9</td>\n",
       "      <td>0.0</td>\n",
       "      <td>1.7</td>\n",
       "      <td>0.0</td>\n",
       "      <td>not fire</td>\n",
       "      <td>BR</td>\n",
       "    </tr>\n",
       "    <tr>\n",
       "      <th>4</th>\n",
       "      <td>5</td>\n",
       "      <td>6</td>\n",
       "      <td>2012</td>\n",
       "      <td>27</td>\n",
       "      <td>77</td>\n",
       "      <td>16</td>\n",
       "      <td>0.0</td>\n",
       "      <td>64.8</td>\n",
       "      <td>3.0</td>\n",
       "      <td>14.2</td>\n",
       "      <td>1.2</td>\n",
       "      <td>3.9</td>\n",
       "      <td>0.5</td>\n",
       "      <td>not fire</td>\n",
       "      <td>BR</td>\n",
       "    </tr>\n",
       "  </tbody>\n",
       "</table>\n",
       "</div>"
      ],
      "text/plain": [
       "   day  month  year  Temperature  RH  Ws  Rain  FFMC  DMC    DC  ISI  BUI  \\\n",
       "0    1      6  2012           29  57  18   0.0  65.7  3.4   7.6  1.3  3.4   \n",
       "1    2      6  2012           29  61  13   1.3  64.4  4.1   7.6  1.0  3.9   \n",
       "2    3      6  2012           26  82  22  13.1  47.1  2.5   7.1  0.3  2.7   \n",
       "3    4      6  2012           25  89  13   2.5  28.6  1.3   6.9  0.0  1.7   \n",
       "4    5      6  2012           27  77  16   0.0  64.8  3.0  14.2  1.2  3.9   \n",
       "\n",
       "   FWI   Classes Region  \n",
       "0  0.5  not fire     BR  \n",
       "1  0.4  not fire     BR  \n",
       "2  0.1  not fire     BR  \n",
       "3  0.0  not fire     BR  \n",
       "4  0.5  not fire     BR  "
      ]
     },
     "execution_count": 3,
     "metadata": {},
     "output_type": "execute_result"
    }
   ],
   "source": [
    "df=pd.read_csv('forest_fire_dataset_processed.csv')\n",
    "df.head()"
   ]
  },
  {
   "cell_type": "code",
   "execution_count": 4,
   "id": "9053bfa5",
   "metadata": {},
   "outputs": [],
   "source": [
    "x=df.drop(columns=['Temperature'])\n",
    "y=df['Temperature']"
   ]
  },
  {
   "cell_type": "code",
   "execution_count": 5,
   "id": "7ebaec6e",
   "metadata": {},
   "outputs": [],
   "source": [
    "x_train, x_test, y_train, y_test=train_test_split(x, y, test_size=0.2, random_state=100) #using same random_state as per EDA"
   ]
  },
  {
   "cell_type": "markdown",
   "id": "1c902dc8",
   "metadata": {},
   "source": [
    "# Training Pipeline"
   ]
  },
  {
   "cell_type": "code",
   "execution_count": 6,
   "id": "52f657be",
   "metadata": {},
   "outputs": [],
   "source": [
    "def train_preprocessing_pipeline(x_train, y_train):\n",
    "    df=pd.concat([x_train, y_train], axis=1)\n",
    "    df=df.reset_index(drop=True)\n",
    "    \n",
    "    #adding features\n",
    "    df['day_name']=pd.to_datetime(df[['day', 'month', 'year']]).apply(lambda x: x.strftime(\"%a\"))\n",
    "    df['month']=pd.to_datetime(df[['day', 'month', 'year']]).apply(lambda x: x.strftime(\"%b\"))\n",
    "    \n",
    "    #dropping unnecessary column\n",
    "    df=df.drop(columns=['year', 'day', 'BUI', 'FWI'])\n",
    "    \n",
    "    #separating data into categorical and numerical values\n",
    "    num_df=df.drop(columns=['month', 'day_name', 'Classes', 'Region', 'Temperature'])\n",
    "    cat_df=df[['month', 'day_name', 'Classes', 'Region']]\n",
    "    \n",
    "    output_df=df['Temperature']\n",
    "    \n",
    "    #scaling\n",
    "    scaler=StandardScaler()\n",
    "    num_array=scaler.fit_transform(num_df)\n",
    "    num_df=pd.DataFrame(num_array, columns=num_df.columns)\n",
    "    if not os.path.isdir('Scaling'):\n",
    "        os.mkdir('Scaling')\n",
    "    pickle.dump(scaler, open('Scaling/Scaler_Regression.pickle', 'wb'))\n",
    "    \n",
    "    #encoding\n",
    "    cat_df['month']=cat_df['month'].map({'Aug':3, 'Jul':2, 'Jun':1, 'Sep':0})  \n",
    "    cat_df['Region']=cat_df['Region'].map({'SBAR':1, 'BR':0})\n",
    "    cat_df['Classes']=cat_df['Classes'].map({'fire':1, 'not fire':0})\n",
    "    encoder=pickle.load(open('Encoder/encode_dayname.pickle', 'rb'))\n",
    "    day_names_array=encoder.transform(cat_df[['day_name']])\n",
    "    day_names=pd.DataFrame(day_names_array, columns=encoder.get_feature_names_out())\n",
    "    cat_df=cat_df.drop(columns=['day_name'])\n",
    "    cat_df=pd.concat([cat_df, day_names], axis=1)\n",
    "    \n",
    "    final_data=pd.concat([num_df, cat_df, output_df], axis=1)\n",
    "    x=final_data.drop(columns=['Temperature'])\n",
    "    y=final_data['Temperature']\n",
    "    return x, y"
   ]
  },
  {
   "cell_type": "markdown",
   "id": "4c05cc0c",
   "metadata": {},
   "source": [
    "# Testing Pipeline"
   ]
  },
  {
   "cell_type": "code",
   "execution_count": 7,
   "id": "b7125aee",
   "metadata": {},
   "outputs": [],
   "source": [
    "def test_preprocessing_pipeline(x_test, y_test):\n",
    "    df=pd.concat([x_test, y_test], axis=1)\n",
    "    df=df.reset_index(drop=True)\n",
    "    \n",
    "    #adding features\n",
    "    df['day_name']=pd.to_datetime(df[['day', 'month', 'year']]).apply(lambda x: x.strftime(\"%a\"))\n",
    "    df['month']=pd.to_datetime(df[['day', 'month', 'year']]).apply(lambda x: x.strftime(\"%b\"))\n",
    "    \n",
    "    #dropping unnecessary column\n",
    "    df=df.drop(columns=['year', 'day', 'BUI', 'FWI'])\n",
    "    num_df=df.drop(columns=['month', 'day_name','Classes', 'Region', 'Temperature'])\n",
    "    cat_df=df[['month', 'day_name', 'Classes','Region']]\n",
    "    \n",
    "    output_df=df['Temperature']\n",
    "    \n",
    "    #scaling\n",
    "    scaler=pickle.load(open('Scaling/Scaler_Regression.pickle', 'rb'))\n",
    "    num_array=scaler.transform(num_df)\n",
    "    num_df=pd.DataFrame(num_array, columns=num_df.columns)\n",
    "    \n",
    "    #encoding\n",
    "    cat_df['month']=cat_df['month'].map({'Aug':3, 'Jul':2, 'Jun':1, 'Sep':0})  \n",
    "    cat_df['Region']=cat_df['Region'].map({'SBAR':1, 'BR':0})\n",
    "    cat_df['Classes']=cat_df['Classes'].map({'fire':1, 'not fire':0})\n",
    "    encoder=pickle.load(open('Encoder/encode_dayname.pickle', 'rb'))\n",
    "    day_names_array=encoder.transform(cat_df[['day_name']])\n",
    "    day_names=pd.DataFrame(day_names_array, columns=encoder.get_feature_names_out())\n",
    "    cat_df=cat_df.drop(columns=['day_name'])\n",
    "    cat_df=pd.concat([cat_df, day_names], axis=1)\n",
    "    \n",
    "    final_data=pd.concat([num_df, cat_df, output_df], axis=1)\n",
    "    x=final_data.drop(columns=['Temperature'])\n",
    "    y=final_data['Temperature']\n",
    "    return x,y"
   ]
  },
  {
   "cell_type": "markdown",
   "id": "6a166b17",
   "metadata": {},
   "source": [
    "# Preprocessed data"
   ]
  },
  {
   "cell_type": "code",
   "execution_count": 8,
   "id": "b8e59288",
   "metadata": {
    "scrolled": true
   },
   "outputs": [
    {
     "name": "stderr",
     "output_type": "stream",
     "text": [
      "C:\\Users\\SAYAN\\AppData\\Local\\Temp/ipykernel_6788/971763646.py:27: SettingWithCopyWarning: \n",
      "A value is trying to be set on a copy of a slice from a DataFrame.\n",
      "Try using .loc[row_indexer,col_indexer] = value instead\n",
      "\n",
      "See the caveats in the documentation: https://pandas.pydata.org/pandas-docs/stable/user_guide/indexing.html#returning-a-view-versus-a-copy\n",
      "  cat_df['month']=cat_df['month'].map({'Aug':3, 'Jul':2, 'Jun':1, 'Sep':0})\n",
      "C:\\Users\\SAYAN\\AppData\\Local\\Temp/ipykernel_6788/971763646.py:28: SettingWithCopyWarning: \n",
      "A value is trying to be set on a copy of a slice from a DataFrame.\n",
      "Try using .loc[row_indexer,col_indexer] = value instead\n",
      "\n",
      "See the caveats in the documentation: https://pandas.pydata.org/pandas-docs/stable/user_guide/indexing.html#returning-a-view-versus-a-copy\n",
      "  cat_df['Region']=cat_df['Region'].map({'SBAR':1, 'BR':0})\n",
      "C:\\Users\\SAYAN\\AppData\\Local\\Temp/ipykernel_6788/971763646.py:29: SettingWithCopyWarning: \n",
      "A value is trying to be set on a copy of a slice from a DataFrame.\n",
      "Try using .loc[row_indexer,col_indexer] = value instead\n",
      "\n",
      "See the caveats in the documentation: https://pandas.pydata.org/pandas-docs/stable/user_guide/indexing.html#returning-a-view-versus-a-copy\n",
      "  cat_df['Classes']=cat_df['Classes'].map({'fire':1, 'not fire':0})\n",
      "C:\\Users\\SAYAN\\AppData\\Local\\Temp/ipykernel_6788/3995299301.py:22: SettingWithCopyWarning: \n",
      "A value is trying to be set on a copy of a slice from a DataFrame.\n",
      "Try using .loc[row_indexer,col_indexer] = value instead\n",
      "\n",
      "See the caveats in the documentation: https://pandas.pydata.org/pandas-docs/stable/user_guide/indexing.html#returning-a-view-versus-a-copy\n",
      "  cat_df['month']=cat_df['month'].map({'Aug':3, 'Jul':2, 'Jun':1, 'Sep':0})\n",
      "C:\\Users\\SAYAN\\AppData\\Local\\Temp/ipykernel_6788/3995299301.py:23: SettingWithCopyWarning: \n",
      "A value is trying to be set on a copy of a slice from a DataFrame.\n",
      "Try using .loc[row_indexer,col_indexer] = value instead\n",
      "\n",
      "See the caveats in the documentation: https://pandas.pydata.org/pandas-docs/stable/user_guide/indexing.html#returning-a-view-versus-a-copy\n",
      "  cat_df['Region']=cat_df['Region'].map({'SBAR':1, 'BR':0})\n",
      "C:\\Users\\SAYAN\\AppData\\Local\\Temp/ipykernel_6788/3995299301.py:24: SettingWithCopyWarning: \n",
      "A value is trying to be set on a copy of a slice from a DataFrame.\n",
      "Try using .loc[row_indexer,col_indexer] = value instead\n",
      "\n",
      "See the caveats in the documentation: https://pandas.pydata.org/pandas-docs/stable/user_guide/indexing.html#returning-a-view-versus-a-copy\n",
      "  cat_df['Classes']=cat_df['Classes'].map({'fire':1, 'not fire':0})\n"
     ]
    }
   ],
   "source": [
    "train_x, train_y=train_preprocessing_pipeline(x_train, y_train)\n",
    "test_x, test_y = test_preprocessing_pipeline(x_test, y_test)"
   ]
  },
  {
   "cell_type": "code",
   "execution_count": 10,
   "id": "3b982591",
   "metadata": {},
   "outputs": [
    {
     "data": {
      "text/html": [
       "<div>\n",
       "<style scoped>\n",
       "    .dataframe tbody tr th:only-of-type {\n",
       "        vertical-align: middle;\n",
       "    }\n",
       "\n",
       "    .dataframe tbody tr th {\n",
       "        vertical-align: top;\n",
       "    }\n",
       "\n",
       "    .dataframe thead th {\n",
       "        text-align: right;\n",
       "    }\n",
       "</style>\n",
       "<table border=\"1\" class=\"dataframe\">\n",
       "  <thead>\n",
       "    <tr style=\"text-align: right;\">\n",
       "      <th></th>\n",
       "      <th>RH</th>\n",
       "      <th>Ws</th>\n",
       "      <th>Rain</th>\n",
       "      <th>FFMC</th>\n",
       "      <th>DMC</th>\n",
       "      <th>DC</th>\n",
       "      <th>ISI</th>\n",
       "      <th>month</th>\n",
       "      <th>Classes</th>\n",
       "      <th>Region</th>\n",
       "      <th>day_name_Mon</th>\n",
       "      <th>day_name_Sat</th>\n",
       "      <th>day_name_Sun</th>\n",
       "      <th>day_name_Thu</th>\n",
       "      <th>day_name_Tue</th>\n",
       "      <th>day_name_Wed</th>\n",
       "    </tr>\n",
       "  </thead>\n",
       "  <tbody>\n",
       "    <tr>\n",
       "      <th>0</th>\n",
       "      <td>-0.821244</td>\n",
       "      <td>-0.531608</td>\n",
       "      <td>-0.381541</td>\n",
       "      <td>0.774336</td>\n",
       "      <td>0.669505</td>\n",
       "      <td>0.984429</td>\n",
       "      <td>0.596570</td>\n",
       "      <td>1</td>\n",
       "      <td>1</td>\n",
       "      <td>0</td>\n",
       "      <td>0.0</td>\n",
       "      <td>1.0</td>\n",
       "      <td>0.0</td>\n",
       "      <td>0.0</td>\n",
       "      <td>0.0</td>\n",
       "      <td>0.0</td>\n",
       "    </tr>\n",
       "    <tr>\n",
       "      <th>1</th>\n",
       "      <td>1.254823</td>\n",
       "      <td>-0.192358</td>\n",
       "      <td>-0.381541</td>\n",
       "      <td>0.300430</td>\n",
       "      <td>-0.398234</td>\n",
       "      <td>-0.242187</td>\n",
       "      <td>-0.407116</td>\n",
       "      <td>2</td>\n",
       "      <td>0</td>\n",
       "      <td>0</td>\n",
       "      <td>0.0</td>\n",
       "      <td>0.0</td>\n",
       "      <td>0.0</td>\n",
       "      <td>0.0</td>\n",
       "      <td>0.0</td>\n",
       "      <td>0.0</td>\n",
       "    </tr>\n",
       "    <tr>\n",
       "      <th>2</th>\n",
       "      <td>0.183304</td>\n",
       "      <td>1.164642</td>\n",
       "      <td>-0.104489</td>\n",
       "      <td>-0.626776</td>\n",
       "      <td>-0.737969</td>\n",
       "      <td>-0.727538</td>\n",
       "      <td>-0.765576</td>\n",
       "      <td>0</td>\n",
       "      <td>0</td>\n",
       "      <td>0</td>\n",
       "      <td>1.0</td>\n",
       "      <td>0.0</td>\n",
       "      <td>0.0</td>\n",
       "      <td>0.0</td>\n",
       "      <td>0.0</td>\n",
       "      <td>0.0</td>\n",
       "    </tr>\n",
       "    <tr>\n",
       "      <th>3</th>\n",
       "      <td>-1.156094</td>\n",
       "      <td>0.486142</td>\n",
       "      <td>-0.381541</td>\n",
       "      <td>0.897963</td>\n",
       "      <td>0.273147</td>\n",
       "      <td>-0.531191</td>\n",
       "      <td>1.480770</td>\n",
       "      <td>2</td>\n",
       "      <td>1</td>\n",
       "      <td>1</td>\n",
       "      <td>0.0</td>\n",
       "      <td>0.0</td>\n",
       "      <td>1.0</td>\n",
       "      <td>0.0</td>\n",
       "      <td>0.0</td>\n",
       "      <td>0.0</td>\n",
       "    </tr>\n",
       "    <tr>\n",
       "      <th>4</th>\n",
       "      <td>1.187853</td>\n",
       "      <td>-0.192358</td>\n",
       "      <td>-0.381541</td>\n",
       "      <td>0.389717</td>\n",
       "      <td>-0.543834</td>\n",
       "      <td>-0.301753</td>\n",
       "      <td>-0.287630</td>\n",
       "      <td>0</td>\n",
       "      <td>1</td>\n",
       "      <td>1</td>\n",
       "      <td>0.0</td>\n",
       "      <td>0.0</td>\n",
       "      <td>1.0</td>\n",
       "      <td>0.0</td>\n",
       "      <td>0.0</td>\n",
       "      <td>0.0</td>\n",
       "    </tr>\n",
       "  </tbody>\n",
       "</table>\n",
       "</div>"
      ],
      "text/plain": [
       "         RH        Ws      Rain      FFMC       DMC        DC       ISI  \\\n",
       "0 -0.821244 -0.531608 -0.381541  0.774336  0.669505  0.984429  0.596570   \n",
       "1  1.254823 -0.192358 -0.381541  0.300430 -0.398234 -0.242187 -0.407116   \n",
       "2  0.183304  1.164642 -0.104489 -0.626776 -0.737969 -0.727538 -0.765576   \n",
       "3 -1.156094  0.486142 -0.381541  0.897963  0.273147 -0.531191  1.480770   \n",
       "4  1.187853 -0.192358 -0.381541  0.389717 -0.543834 -0.301753 -0.287630   \n",
       "\n",
       "   month  Classes  Region  day_name_Mon  day_name_Sat  day_name_Sun  \\\n",
       "0      1        1       0           0.0           1.0           0.0   \n",
       "1      2        0       0           0.0           0.0           0.0   \n",
       "2      0        0       0           1.0           0.0           0.0   \n",
       "3      2        1       1           0.0           0.0           1.0   \n",
       "4      0        1       1           0.0           0.0           1.0   \n",
       "\n",
       "   day_name_Thu  day_name_Tue  day_name_Wed  \n",
       "0           0.0           0.0           0.0  \n",
       "1           0.0           0.0           0.0  \n",
       "2           0.0           0.0           0.0  \n",
       "3           0.0           0.0           0.0  \n",
       "4           0.0           0.0           0.0  "
      ]
     },
     "execution_count": 10,
     "metadata": {},
     "output_type": "execute_result"
    }
   ],
   "source": [
    "train_x.head()"
   ]
  },
  {
   "cell_type": "code",
   "execution_count": 11,
   "id": "a08e4964",
   "metadata": {},
   "outputs": [
    {
     "data": {
      "text/html": [
       "<div>\n",
       "<style scoped>\n",
       "    .dataframe tbody tr th:only-of-type {\n",
       "        vertical-align: middle;\n",
       "    }\n",
       "\n",
       "    .dataframe tbody tr th {\n",
       "        vertical-align: top;\n",
       "    }\n",
       "\n",
       "    .dataframe thead th {\n",
       "        text-align: right;\n",
       "    }\n",
       "</style>\n",
       "<table border=\"1\" class=\"dataframe\">\n",
       "  <thead>\n",
       "    <tr style=\"text-align: right;\">\n",
       "      <th></th>\n",
       "      <th>RH</th>\n",
       "      <th>Ws</th>\n",
       "      <th>Rain</th>\n",
       "      <th>FFMC</th>\n",
       "      <th>DMC</th>\n",
       "      <th>DC</th>\n",
       "      <th>ISI</th>\n",
       "      <th>month</th>\n",
       "      <th>Classes</th>\n",
       "      <th>Region</th>\n",
       "      <th>day_name_Mon</th>\n",
       "      <th>day_name_Sat</th>\n",
       "      <th>day_name_Sun</th>\n",
       "      <th>day_name_Thu</th>\n",
       "      <th>day_name_Tue</th>\n",
       "      <th>day_name_Wed</th>\n",
       "    </tr>\n",
       "  </thead>\n",
       "  <tbody>\n",
       "    <tr>\n",
       "      <th>0</th>\n",
       "      <td>0.183304</td>\n",
       "      <td>-0.870858</td>\n",
       "      <td>-0.381541</td>\n",
       "      <td>0.643840</td>\n",
       "      <td>-0.284989</td>\n",
       "      <td>-0.407647</td>\n",
       "      <td>0.118624</td>\n",
       "      <td>3</td>\n",
       "      <td>1</td>\n",
       "      <td>0</td>\n",
       "      <td>0.0</td>\n",
       "      <td>0.0</td>\n",
       "      <td>1.0</td>\n",
       "      <td>0.0</td>\n",
       "      <td>0.0</td>\n",
       "      <td>0.0</td>\n",
       "    </tr>\n",
       "    <tr>\n",
       "      <th>1</th>\n",
       "      <td>1.120883</td>\n",
       "      <td>-0.192358</td>\n",
       "      <td>-0.381541</td>\n",
       "      <td>0.547685</td>\n",
       "      <td>1.122485</td>\n",
       "      <td>1.937482</td>\n",
       "      <td>-0.000862</td>\n",
       "      <td>2</td>\n",
       "      <td>1</td>\n",
       "      <td>0</td>\n",
       "      <td>1.0</td>\n",
       "      <td>0.0</td>\n",
       "      <td>0.0</td>\n",
       "      <td>0.0</td>\n",
       "      <td>0.0</td>\n",
       "      <td>0.0</td>\n",
       "    </tr>\n",
       "    <tr>\n",
       "      <th>2</th>\n",
       "      <td>-1.557913</td>\n",
       "      <td>-0.192358</td>\n",
       "      <td>-0.289191</td>\n",
       "      <td>0.815545</td>\n",
       "      <td>0.095191</td>\n",
       "      <td>-0.281897</td>\n",
       "      <td>0.835543</td>\n",
       "      <td>3</td>\n",
       "      <td>1</td>\n",
       "      <td>1</td>\n",
       "      <td>0.0</td>\n",
       "      <td>0.0</td>\n",
       "      <td>0.0</td>\n",
       "      <td>0.0</td>\n",
       "      <td>0.0</td>\n",
       "      <td>0.0</td>\n",
       "    </tr>\n",
       "    <tr>\n",
       "      <th>3</th>\n",
       "      <td>1.455733</td>\n",
       "      <td>0.825392</td>\n",
       "      <td>-0.381541</td>\n",
       "      <td>0.437794</td>\n",
       "      <td>-0.090855</td>\n",
       "      <td>0.024757</td>\n",
       "      <td>-0.048657</td>\n",
       "      <td>0</td>\n",
       "      <td>1</td>\n",
       "      <td>0</td>\n",
       "      <td>0.0</td>\n",
       "      <td>0.0</td>\n",
       "      <td>0.0</td>\n",
       "      <td>1.0</td>\n",
       "      <td>0.0</td>\n",
       "      <td>0.0</td>\n",
       "    </tr>\n",
       "    <tr>\n",
       "      <th>4</th>\n",
       "      <td>-0.486395</td>\n",
       "      <td>-1.549358</td>\n",
       "      <td>-0.381541</td>\n",
       "      <td>0.712522</td>\n",
       "      <td>0.151813</td>\n",
       "      <td>0.214485</td>\n",
       "      <td>0.166419</td>\n",
       "      <td>0</td>\n",
       "      <td>1</td>\n",
       "      <td>0</td>\n",
       "      <td>0.0</td>\n",
       "      <td>0.0</td>\n",
       "      <td>0.0</td>\n",
       "      <td>0.0</td>\n",
       "      <td>0.0</td>\n",
       "      <td>0.0</td>\n",
       "    </tr>\n",
       "  </tbody>\n",
       "</table>\n",
       "</div>"
      ],
      "text/plain": [
       "         RH        Ws      Rain      FFMC       DMC        DC       ISI  \\\n",
       "0  0.183304 -0.870858 -0.381541  0.643840 -0.284989 -0.407647  0.118624   \n",
       "1  1.120883 -0.192358 -0.381541  0.547685  1.122485  1.937482 -0.000862   \n",
       "2 -1.557913 -0.192358 -0.289191  0.815545  0.095191 -0.281897  0.835543   \n",
       "3  1.455733  0.825392 -0.381541  0.437794 -0.090855  0.024757 -0.048657   \n",
       "4 -0.486395 -1.549358 -0.381541  0.712522  0.151813  0.214485  0.166419   \n",
       "\n",
       "   month  Classes  Region  day_name_Mon  day_name_Sat  day_name_Sun  \\\n",
       "0      3        1       0           0.0           0.0           1.0   \n",
       "1      2        1       0           1.0           0.0           0.0   \n",
       "2      3        1       1           0.0           0.0           0.0   \n",
       "3      0        1       0           0.0           0.0           0.0   \n",
       "4      0        1       0           0.0           0.0           0.0   \n",
       "\n",
       "   day_name_Thu  day_name_Tue  day_name_Wed  \n",
       "0           0.0           0.0           0.0  \n",
       "1           0.0           0.0           0.0  \n",
       "2           0.0           0.0           0.0  \n",
       "3           1.0           0.0           0.0  \n",
       "4           0.0           0.0           0.0  "
      ]
     },
     "execution_count": 11,
     "metadata": {},
     "output_type": "execute_result"
    }
   ],
   "source": [
    "test_x.head()"
   ]
  },
  {
   "cell_type": "code",
   "execution_count": null,
   "id": "f2506786",
   "metadata": {},
   "outputs": [],
   "source": []
  },
  {
   "cell_type": "markdown",
   "id": "16a083cc",
   "metadata": {},
   "source": [
    "# Model Training"
   ]
  },
  {
   "cell_type": "markdown",
   "id": "b5e505e7",
   "metadata": {},
   "source": [
    "## LinearRegression"
   ]
  },
  {
   "cell_type": "code",
   "execution_count": 14,
   "id": "e304bfa4",
   "metadata": {},
   "outputs": [
    {
     "data": {
      "text/plain": [
       "LinearRegression()"
      ]
     },
     "execution_count": 14,
     "metadata": {},
     "output_type": "execute_result"
    }
   ],
   "source": [
    "lr=LinearRegression()\n",
    "lr.fit(train_x, train_y)"
   ]
  },
  {
   "cell_type": "code",
   "execution_count": 15,
   "id": "149e0419",
   "metadata": {},
   "outputs": [
    {
     "name": "stdout",
     "output_type": "stream",
     "text": [
      "MSE:  3.592\n",
      "r2_score:  0.694\n"
     ]
    }
   ],
   "source": [
    "pred_lr_y=lr.predict(test_x).astype(int)\n",
    "\n",
    "mse_lr=np.round(mean_squared_error(test_y, pred_lr_y),3)\n",
    "r2_lr=np.round(r2_score(test_y, pred_lr_y),3)\n",
    "\n",
    "print('MSE: ', mse_lr)\n",
    "print('r2_score: ', r2_lr)"
   ]
  },
  {
   "cell_type": "markdown",
   "id": "a51ec6e0",
   "metadata": {},
   "source": [
    "## Ridge"
   ]
  },
  {
   "cell_type": "code",
   "execution_count": 17,
   "id": "53ec6827",
   "metadata": {},
   "outputs": [
    {
     "data": {
      "text/plain": [
       "{'alpha': 9.5}"
      ]
     },
     "execution_count": 17,
     "metadata": {},
     "output_type": "execute_result"
    }
   ],
   "source": [
    "param_grid_ridge={\n",
    "    \"alpha\" : np.arange(0, 10, 0.5)\n",
    "}\n",
    "\n",
    "grid_search_ridge=GridSearchCV(Ridge(), param_grid_ridge, cv=5)\n",
    "grid_search_ridge.fit(train_x, train_y)\n",
    "grid_search_ridge.best_params_"
   ]
  },
  {
   "cell_type": "code",
   "execution_count": 18,
   "id": "f783eb66",
   "metadata": {},
   "outputs": [
    {
     "data": {
      "text/plain": [
       "Ridge(alpha=9.5)"
      ]
     },
     "execution_count": 18,
     "metadata": {},
     "output_type": "execute_result"
    }
   ],
   "source": [
    "ridge=Ridge(alpha=9.5)\n",
    "ridge.fit(train_x, train_y)"
   ]
  },
  {
   "cell_type": "code",
   "execution_count": 19,
   "id": "b2e57e4e",
   "metadata": {},
   "outputs": [
    {
     "name": "stdout",
     "output_type": "stream",
     "text": [
      "MSE:  3.184\n",
      "r2_score:  0.729\n"
     ]
    }
   ],
   "source": [
    "pred_ridge_y=ridge.predict(test_x).astype(int)\n",
    "\n",
    "mse_ridge=np.round(mean_squared_error(test_y, pred_ridge_y),3)\n",
    "r2_ridge=np.round(r2_score(test_y, pred_ridge_y),3)\n",
    "\n",
    "print('MSE: ', mse_ridge)\n",
    "print('r2_score: ', r2_ridge)"
   ]
  },
  {
   "cell_type": "markdown",
   "id": "4ed98b7c",
   "metadata": {},
   "source": [
    "## Lasso"
   ]
  },
  {
   "cell_type": "code",
   "execution_count": 20,
   "id": "28354980",
   "metadata": {},
   "outputs": [
    {
     "data": {
      "text/plain": [
       "{'alpha': 0.1}"
      ]
     },
     "execution_count": 20,
     "metadata": {},
     "output_type": "execute_result"
    }
   ],
   "source": [
    "param_grid_lasso={\n",
    "    \"alpha\" : np.arange(0.1, 10, 0.1)\n",
    "}\n",
    "\n",
    "grid_search_lasso=GridSearchCV(Lasso(), param_grid_lasso, cv=5)\n",
    "grid_search_lasso.fit(train_x, train_y)\n",
    "grid_search_lasso.best_params_"
   ]
  },
  {
   "cell_type": "code",
   "execution_count": 21,
   "id": "31d3774b",
   "metadata": {},
   "outputs": [
    {
     "data": {
      "text/plain": [
       "Lasso(alpha=0.1)"
      ]
     },
     "execution_count": 21,
     "metadata": {},
     "output_type": "execute_result"
    }
   ],
   "source": [
    "lasso=Lasso(alpha=0.1)\n",
    "lasso.fit(train_x, train_y)"
   ]
  },
  {
   "cell_type": "code",
   "execution_count": 22,
   "id": "2b43a7b3",
   "metadata": {},
   "outputs": [
    {
     "name": "stdout",
     "output_type": "stream",
     "text": [
      "MSE:  3.367\n",
      "r2_score:  0.713\n"
     ]
    }
   ],
   "source": [
    "pred_lasso_y=lasso.predict(test_x).astype(int)\n",
    "\n",
    "mse_lasso=np.round(mean_squared_error(test_y, pred_lasso_y),3)\n",
    "r2_lasso=np.round(r2_score(test_y, pred_lasso_y),3)\n",
    "\n",
    "print('MSE: ', mse_lasso)\n",
    "print('r2_score: ', r2_lasso)"
   ]
  },
  {
   "cell_type": "markdown",
   "id": "7e01535b",
   "metadata": {},
   "source": [
    "## SVR"
   ]
  },
  {
   "cell_type": "markdown",
   "id": "d52745d4",
   "metadata": {},
   "source": [
    "### Model svr1"
   ]
  },
  {
   "cell_type": "code",
   "execution_count": 71,
   "id": "f8a14626",
   "metadata": {},
   "outputs": [
    {
     "data": {
      "text/plain": [
       "{'C': 2.0, 'epsilon': 0.9, 'gamma': 'auto', 'kernel': 'rbf'}"
      ]
     },
     "execution_count": 71,
     "metadata": {},
     "output_type": "execute_result"
    }
   ],
   "source": [
    "param_grid_svr1={\n",
    "    \"kernel\" : [\"rbf\"],\n",
    "    \"gamma\" : [\"scale\", \"auto\"],\n",
    "    \"C\":[2.0, 1.5, 1.0, 0.5, 0.1, 0.05, 0.01],\n",
    "    \"epsilon\" : np.arange(0.1,5,0.1)   \n",
    "}\n",
    "\n",
    "grid_search_svr1=GridSearchCV(SVR(), param_grid_svr1, cv=5)\n",
    "grid_search_svr1.fit(train_x, train_y)\n",
    "grid_search_svr1.best_params_"
   ]
  },
  {
   "cell_type": "code",
   "execution_count": 72,
   "id": "5174c313",
   "metadata": {},
   "outputs": [
    {
     "data": {
      "text/plain": [
       "SVR(C=2.0, epsilon=0.9, gamma='auto')"
      ]
     },
     "execution_count": 72,
     "metadata": {},
     "output_type": "execute_result"
    }
   ],
   "source": [
    "svr1=SVR(C=2.0, kernel=\"rbf\", epsilon=0.9, gamma='auto')\n",
    "svr1.fit(train_x, train_y)"
   ]
  },
  {
   "cell_type": "code",
   "execution_count": 75,
   "id": "946390d6",
   "metadata": {},
   "outputs": [
    {
     "name": "stdout",
     "output_type": "stream",
     "text": [
      "MSE:  3.102\n",
      "r2_score:  0.736\n"
     ]
    }
   ],
   "source": [
    "pred_svr_y1=svr1.predict(test_x).astype(int)\n",
    "\n",
    "mse_svr1=np.round(mean_squared_error(test_y, pred_svr_y1),3)\n",
    "r2_svr1=np.round(r2_score(test_y, pred_svr_y1),3)\n",
    "\n",
    "print('MSE: ', mse_svr1)\n",
    "print('r2_score: ', r2_svr1)"
   ]
  },
  {
   "cell_type": "markdown",
   "id": "a1aa40bd",
   "metadata": {},
   "source": [
    "### Model svr2"
   ]
  },
  {
   "cell_type": "code",
   "execution_count": 76,
   "id": "3ed4dcd9",
   "metadata": {},
   "outputs": [
    {
     "data": {
      "text/plain": [
       "{'C': 0.1, 'epsilon': 1.6, 'kernel': 'linear'}"
      ]
     },
     "execution_count": 76,
     "metadata": {},
     "output_type": "execute_result"
    }
   ],
   "source": [
    "param_grid_svr2={\n",
    "    \"kernel\" : [\"linear\"],\n",
    "    \"C\":[2.0, 1.5, 1.0, 0.5, 0.1, 0.05, 0.01],\n",
    "    \"epsilon\" : np.arange(0.1,5,0.1)\n",
    "}\n",
    "\n",
    "grid_search_svr2=GridSearchCV(SVR(), param_grid_svr2, cv=5)\n",
    "grid_search_svr2.fit(train_x, train_y)\n",
    "grid_search_svr2.best_params_"
   ]
  },
  {
   "cell_type": "code",
   "execution_count": 79,
   "id": "945d4139",
   "metadata": {},
   "outputs": [
    {
     "data": {
      "text/plain": [
       "SVR(C=0.1, epsilon=1.6, kernel='linear')"
      ]
     },
     "execution_count": 79,
     "metadata": {},
     "output_type": "execute_result"
    }
   ],
   "source": [
    "svr2=SVR(C=0.1, kernel=\"linear\", epsilon=1.6)\n",
    "svr2.fit(train_x, train_y)"
   ]
  },
  {
   "cell_type": "code",
   "execution_count": 80,
   "id": "d8d490af",
   "metadata": {},
   "outputs": [
    {
     "name": "stdout",
     "output_type": "stream",
     "text": [
      "MSE:  3.592\n",
      "r2_score:  0.694\n"
     ]
    }
   ],
   "source": [
    "pred_svr_y2=svr2.predict(test_x).astype(int)\n",
    "\n",
    "mse_svr2=np.round(mean_squared_error(test_y, pred_svr_y2),3)\n",
    "r2_svr2=np.round(r2_score(test_y, pred_svr_y2),3)\n",
    "\n",
    "print('MSE: ', mse_svr2)\n",
    "print('r2_score: ', r2_svr2)"
   ]
  },
  {
   "cell_type": "markdown",
   "id": "31f14316",
   "metadata": {},
   "source": [
    "# 📌\n",
    "\n",
    "Model svr1 is better between two SVR model   "
   ]
  },
  {
   "cell_type": "markdown",
   "id": "5bd43857",
   "metadata": {},
   "source": [
    "## DecissionTree"
   ]
  },
  {
   "cell_type": "code",
   "execution_count": 123,
   "id": "5e8c45d0",
   "metadata": {},
   "outputs": [
    {
     "data": {
      "text/plain": [
       "{'criterion': 'absolute_error',\n",
       " 'max_features': None,\n",
       " 'min_samples_leaf': 10,\n",
       " 'random_state': 10}"
      ]
     },
     "execution_count": 123,
     "metadata": {},
     "output_type": "execute_result"
    }
   ],
   "source": [
    "param_grid_dt={\n",
    "    \"criterion\" : [\"squared_error\", \"absolute_error\"],\n",
    "    \"min_samples_leaf\" : [3, 5, 8, 10],\n",
    "    \"max_features\" : [\"sqrt\", \"log2\", None],\n",
    "    \"random_state\" : [10, 30, 50, 100]\n",
    "}\n",
    "\n",
    "grid_search_dt = GridSearchCV(DecisionTreeRegressor(), param_grid_dt, cv=5)\n",
    "grid_search_dt.fit(train_x, train_y)\n",
    "grid_search_dt.best_params_"
   ]
  },
  {
   "cell_type": "code",
   "execution_count": 124,
   "id": "5d5e6112",
   "metadata": {},
   "outputs": [
    {
     "data": {
      "text/plain": [
       "DecisionTreeRegressor(criterion='absolute_error', min_samples_leaf=10,\n",
       "                      random_state=10)"
      ]
     },
     "execution_count": 124,
     "metadata": {},
     "output_type": "execute_result"
    }
   ],
   "source": [
    "dt=DecisionTreeRegressor(criterion='absolute_error', min_samples_leaf=10,  max_features=None, random_state=10)\n",
    "dt.fit(train_x, train_y)"
   ]
  },
  {
   "cell_type": "code",
   "execution_count": 125,
   "id": "6bdf10f1",
   "metadata": {},
   "outputs": [
    {
     "name": "stdout",
     "output_type": "stream",
     "text": [
      "MSE:  4.061\n",
      "r2_score:  0.654\n"
     ]
    }
   ],
   "source": [
    "pred_dt_y=dt.predict(test_x).astype(int)\n",
    "\n",
    "mse_dt=np.round(mean_squared_error(test_y, pred_dt_y),3)\n",
    "r2_dt=np.round(r2_score(test_y, pred_dt_y),3)\n",
    "\n",
    "print('MSE: ', mse_dt)\n",
    "print('r2_score: ', r2_dt)"
   ]
  },
  {
   "cell_type": "code",
   "execution_count": 126,
   "id": "9da72f4a",
   "metadata": {},
   "outputs": [
    {
     "data": {
      "text/plain": [
       "[Text(0.359375, 0.9285714285714286, 'X[3] <= -0.263\\nabsolute_error = 2.912\\nsamples = 194\\nvalue = 32.0'),\n",
       " Text(0.125, 0.7857142857142857, 'X[5] <= -0.896\\nabsolute_error = 2.203\\nsamples = 59\\nvalue = 29.0'),\n",
       " Text(0.0625, 0.6428571428571429, 'absolute_error = 1.455\\nsamples = 11\\nvalue = 25.0'),\n",
       " Text(0.1875, 0.6428571428571429, 'X[0] <= 1.087\\nabsolute_error = 1.833\\nsamples = 48\\nvalue = 29.0'),\n",
       " Text(0.125, 0.5, 'X[1] <= -0.362\\nabsolute_error = 1.844\\nsamples = 32\\nvalue = 30.0'),\n",
       " Text(0.0625, 0.35714285714285715, 'absolute_error = 1.692\\nsamples = 13\\nvalue = 32.0'),\n",
       " Text(0.1875, 0.35714285714285715, 'absolute_error = 1.579\\nsamples = 19\\nvalue = 29.0'),\n",
       " Text(0.25, 0.5, 'absolute_error = 1.062\\nsamples = 16\\nvalue = 28.0'),\n",
       " Text(0.59375, 0.7857142857142857, 'X[7] <= 1.5\\nabsolute_error = 2.289\\nsamples = 135\\nvalue = 33.0'),\n",
       " Text(0.4375, 0.6428571428571429, 'X[4] <= 0.318\\nabsolute_error = 1.981\\nsamples = 53\\nvalue = 32.0'),\n",
       " Text(0.375, 0.5, 'X[0] <= 0.049\\nabsolute_error = 1.575\\nsamples = 40\\nvalue = 31.0'),\n",
       " Text(0.3125, 0.35714285714285715, 'X[1] <= -0.362\\nabsolute_error = 1.5\\nsamples = 22\\nvalue = 32.0'),\n",
       " Text(0.25, 0.21428571428571427, 'absolute_error = 0.636\\nsamples = 11\\nvalue = 32.0'),\n",
       " Text(0.375, 0.21428571428571427, 'absolute_error = 2.091\\nsamples = 11\\nvalue = 31.0'),\n",
       " Text(0.4375, 0.35714285714285715, 'absolute_error = 1.444\\nsamples = 18\\nvalue = 31.0'),\n",
       " Text(0.5, 0.5, 'absolute_error = 2.0\\nsamples = 13\\nvalue = 34.0'),\n",
       " Text(0.75, 0.6428571428571429, 'X[0] <= 0.15\\nabsolute_error = 1.866\\nsamples = 82\\nvalue = 35.0'),\n",
       " Text(0.625, 0.5, 'X[3] <= 0.98\\nabsolute_error = 1.603\\nsamples = 58\\nvalue = 35.0'),\n",
       " Text(0.5625, 0.35714285714285715, 'X[5] <= 0.928\\nabsolute_error = 1.196\\nsamples = 46\\nvalue = 35.0'),\n",
       " Text(0.5, 0.21428571428571427, 'X[1] <= -0.023\\nabsolute_error = 1.182\\nsamples = 33\\nvalue = 35.0'),\n",
       " Text(0.4375, 0.07142857142857142, 'absolute_error = 1.235\\nsamples = 17\\nvalue = 35.0'),\n",
       " Text(0.5625, 0.07142857142857142, 'absolute_error = 0.875\\nsamples = 16\\nvalue = 34.0'),\n",
       " Text(0.625, 0.21428571428571427, 'absolute_error = 1.0\\nsamples = 13\\nvalue = 36.0'),\n",
       " Text(0.6875, 0.35714285714285715, 'absolute_error = 2.333\\nsamples = 12\\nvalue = 38.0'),\n",
       " Text(0.875, 0.5, 'X[1] <= -0.023\\nabsolute_error = 1.083\\nsamples = 24\\nvalue = 33.0'),\n",
       " Text(0.8125, 0.35714285714285715, 'absolute_error = 0.833\\nsamples = 12\\nvalue = 33.0'),\n",
       " Text(0.9375, 0.35714285714285715, 'absolute_error = 1.167\\nsamples = 12\\nvalue = 32.0')]"
      ]
     },
     "execution_count": 126,
     "metadata": {},
     "output_type": "execute_result"
    },
    {
     "data": {
      "image/png": "[encoded data removed]",
      "text/plain": [
       "<Figure size 432x288 with 1 Axes>"
      ]
     },
     "metadata": {
      "needs_background": "light"
     },
     "output_type": "display_data"
    }
   ],
   "source": [
    "tree.plot_tree(dt, filled=True)"
   ]
  },
  {
   "cell_type": "markdown",
   "id": "4e349080",
   "metadata": {},
   "source": [
    "## RandomForest"
   ]
  },
  {
   "cell_type": "code",
   "execution_count": 33,
   "id": "b30ee975",
   "metadata": {},
   "outputs": [
    {
     "data": {
      "text/plain": [
       "{'criterion': 'squared_error',\n",
       " 'max_features': None,\n",
       " 'min_samples_leaf': 3,\n",
       " 'random_state': 100}"
      ]
     },
     "execution_count": 33,
     "metadata": {},
     "output_type": "execute_result"
    }
   ],
   "source": [
    "param_grid_rf={\n",
    "    \"criterion\" : [\"squared_error\", \"absolute_error\"],\n",
    "    \"min_samples_leaf\" : [3, 5, 8, 10],\n",
    "    \"max_features\" : [\"sqrt\", \"log2\", None],\n",
    "    \"random_state\" : [10, 30, 50, 100]\n",
    "\n",
    "}\n",
    "\n",
    "grid_search_rf = GridSearchCV(RandomForestRegressor(), param_grid_rf, cv=5)\n",
    "grid_search_rf.fit(train_x, train_y)\n",
    "grid_search_rf.best_params_"
   ]
  },
  {
   "cell_type": "code",
   "execution_count": 34,
   "id": "fb8450ef",
   "metadata": {},
   "outputs": [
    {
     "data": {
      "text/plain": [
       "RandomForestRegressor(max_features=None, min_samples_leaf=3, random_state=100)"
      ]
     },
     "execution_count": 34,
     "metadata": {},
     "output_type": "execute_result"
    }
   ],
   "source": [
    "rf=RandomForestRegressor(criterion='squared_error', min_samples_leaf=3, max_features=None, random_state=100)\n",
    "rf.fit(train_x, train_y)"
   ]
  },
  {
   "cell_type": "code",
   "execution_count": 35,
   "id": "edf813a2",
   "metadata": {},
   "outputs": [
    {
     "name": "stdout",
     "output_type": "stream",
     "text": [
      "MSE:  3.531\n",
      "r2_score:  0.699\n"
     ]
    }
   ],
   "source": [
    "pred_rf_y=rf.predict(test_x).astype(int)\n",
    "\n",
    "mse_rf=np.round(mean_squared_error(test_y, pred_rf_y),3)\n",
    "r2_rf=np.round(r2_score(test_y, pred_rf_y),3)\n",
    "\n",
    "print('MSE: ', mse_rf)\n",
    "print('r2_score: ', r2_rf)"
   ]
  },
  {
   "cell_type": "markdown",
   "id": "36d454eb",
   "metadata": {},
   "source": [
    "## Compairing Models"
   ]
  },
  {
   "cell_type": "code",
   "execution_count": 127,
   "id": "9f4688fc",
   "metadata": {},
   "outputs": [],
   "source": [
    "scores=[(\"LinearRegression\", r2_lr), (\"Ridge\", r2_ridge), (\"Lasso\", r2_lasso), (\"SVR\", r2_svr1), (\"DecissionTree\" , r2_dt), (\"RandomForest\" , r2_rf)]\n",
    "model_report=pd.DataFrame(scores, columns=['Model', 'Score'])"
   ]
  },
  {
   "cell_type": "code",
   "execution_count": 128,
   "id": "4e64d3c2",
   "metadata": {},
   "outputs": [
    {
     "data": {
      "text/html": [
       "<div>\n",
       "<style scoped>\n",
       "    .dataframe tbody tr th:only-of-type {\n",
       "        vertical-align: middle;\n",
       "    }\n",
       "\n",
       "    .dataframe tbody tr th {\n",
       "        vertical-align: top;\n",
       "    }\n",
       "\n",
       "    .dataframe thead th {\n",
       "        text-align: right;\n",
       "    }\n",
       "</style>\n",
       "<table border=\"1\" class=\"dataframe\">\n",
       "  <thead>\n",
       "    <tr style=\"text-align: right;\">\n",
       "      <th></th>\n",
       "      <th>Model</th>\n",
       "      <th>Score</th>\n",
       "    </tr>\n",
       "  </thead>\n",
       "  <tbody>\n",
       "    <tr>\n",
       "      <th>0</th>\n",
       "      <td>LinearRegression</td>\n",
       "      <td>0.694</td>\n",
       "    </tr>\n",
       "    <tr>\n",
       "      <th>1</th>\n",
       "      <td>Ridge</td>\n",
       "      <td>0.729</td>\n",
       "    </tr>\n",
       "    <tr>\n",
       "      <th>2</th>\n",
       "      <td>Lasso</td>\n",
       "      <td>0.713</td>\n",
       "    </tr>\n",
       "    <tr>\n",
       "      <th>3</th>\n",
       "      <td>SVR</td>\n",
       "      <td>0.736</td>\n",
       "    </tr>\n",
       "    <tr>\n",
       "      <th>4</th>\n",
       "      <td>DecissionTree</td>\n",
       "      <td>0.654</td>\n",
       "    </tr>\n",
       "    <tr>\n",
       "      <th>5</th>\n",
       "      <td>RandomForest</td>\n",
       "      <td>0.699</td>\n",
       "    </tr>\n",
       "  </tbody>\n",
       "</table>\n",
       "</div>"
      ],
      "text/plain": [
       "              Model  Score\n",
       "0  LinearRegression  0.694\n",
       "1             Ridge  0.729\n",
       "2             Lasso  0.713\n",
       "3               SVR  0.736\n",
       "4     DecissionTree  0.654\n",
       "5      RandomForest  0.699"
      ]
     },
     "execution_count": 128,
     "metadata": {},
     "output_type": "execute_result"
    }
   ],
   "source": [
    "model_report"
   ]
  },
  {
   "cell_type": "markdown",
   "id": "2cd175d1",
   "metadata": {},
   "source": [
    "We will choose SVR"
   ]
  },
  {
   "cell_type": "markdown",
   "id": "a81af6fc",
   "metadata": {},
   "source": [
    "## Saving best model"
   ]
  },
  {
   "cell_type": "code",
   "execution_count": 129,
   "id": "2fa19b4e",
   "metadata": {},
   "outputs": [],
   "source": [
    "if not os.path.isdir('Models'):\n",
    "    os.mkdir('Models')\n",
    "pickle.dump(svr1, open('Models/Model_Regression.pickle', 'wb'))"
   ]
  },
  {
   "cell_type": "code",
   "execution_count": null,
   "id": "45dfd13c",
   "metadata": {},
   "outputs": [],
   "source": []
  },
  {
   "cell_type": "code",
   "execution_count": null,
   "id": "36ef063f",
   "metadata": {},
   "outputs": [],
   "source": []
  }
 ],
 "metadata": {
  "kernelspec": {
   "display_name": "Python 3 (ipykernel)",
   "language": "python",
   "name": "python3"
  },
  "language_info": {
   "codemirror_mode": {
    "name": "ipython",
    "version": 3
   },
   "file_extension": ".py",
   "mimetype": "text/x-python",
   "name": "python",
   "nbconvert_exporter": "python",
   "pygments_lexer": "ipython3",
   "version": "3.9.7"
  }
 },
 "nbformat": 4,
 "nbformat_minor": 5
}
